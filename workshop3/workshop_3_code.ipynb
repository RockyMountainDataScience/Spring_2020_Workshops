{
 "cells": [
  {
   "cell_type": "markdown",
   "metadata": {},
   "source": [
    "# RMDS Workshop 3 Code\n",
    "\n",
    "The code below is the code used to walkthrough a basic Customer Lifetime Value modeling process as shown by the slides. At the bottom, there is an additional challenge presented to you to model another transaction dataset."
   ]
  },
  {
   "cell_type": "code",
   "execution_count": null,
   "metadata": {},
   "outputs": [],
   "source": [
    "# Loading Data\n",
    "import lifetimes\n",
    "from lifetimes.datasets import load_transaction_data\n",
    "transaction_data = load_transaction_data()\n",
    "\n",
    "print(transaction_data.head())"
   ]
  },
  {
   "cell_type": "code",
   "execution_count": null,
   "metadata": {},
   "outputs": [],
   "source": [
    "#Creating an RFM Matrix\n",
    "from lifetimes.utils import summary_data_from_transaction_data\n",
    "\n",
    "rfm_matrix = summary_data_from_transaction_data(transaction_data, 'id', 'date')\n",
    "print(rfm_matrix)"
   ]
  },
  {
   "cell_type": "code",
   "execution_count": null,
   "metadata": {},
   "outputs": [],
   "source": [
    "# Switch Datasets to Include Monetary Value\n",
    "from lifetimes.datasets import load_cdnow_summary_data_with_monetary_value\n",
    "rfm_matrix = load_cdnow_summary_data_with_monetary_value()\n",
    "\n",
    "print(rfm_matrix.head())"
   ]
  },
  {
   "cell_type": "code",
   "execution_count": null,
   "metadata": {},
   "outputs": [],
   "source": [
    "# Fit BG/NBD Model\n",
    "from lifetimes import BetaGeoFitter\n",
    "bgf = BetaGeoFitter(penalizer_coef=0.0)\n",
    "bgf.fit(rfm_matrix['frequency'], rfm_matrix['recency'], rfm_matrix['T'])\n",
    "print(bgf)"
   ]
  },
  {
   "cell_type": "code",
   "execution_count": null,
   "metadata": {},
   "outputs": [],
   "source": [
    "print(bgf.summary)"
   ]
  },
  {
   "cell_type": "code",
   "execution_count": null,
   "metadata": {},
   "outputs": [],
   "source": [
    "# Assess Model Fit\n",
    "\n",
    "from lifetimes.plotting import plot_period_transactions\n",
    "plot_period_transactions(bgf, figsize = (10, 5))"
   ]
  },
  {
   "cell_type": "code",
   "execution_count": null,
   "metadata": {},
   "outputs": [],
   "source": [
    "# Predict Number of Transaction for a Single Customer\n",
    "\n",
    "t = 10 #predict purchases in 10 periods\n",
    "individual = rfm_matrix.iloc[20]\n",
    "\n",
    "print(individual)"
   ]
  },
  {
   "cell_type": "code",
   "execution_count": null,
   "metadata": {},
   "outputs": [],
   "source": [
    "# Predict Number of Purchases in Next 10 Time Periods\n",
    "\n",
    "prediction = bgf.predict(t, individual['frequency'], individual['recency'], individual['T'])\n",
    "print(prediction)"
   ]
  },
  {
   "cell_type": "code",
   "execution_count": null,
   "metadata": {},
   "outputs": [],
   "source": [
    "# Checking if Rate and Monetary Value are Independent\n",
    "returning_customers_summary = rfm_matrix[rfm_matrix['frequency']>0]\n",
    "returning_customers_summary[['monetary_value', 'frequency']].corr()"
   ]
  },
  {
   "cell_type": "code",
   "execution_count": null,
   "metadata": {},
   "outputs": [],
   "source": [
    "# Fitting Monetary Value Model\n",
    "from lifetimes import GammaGammaFitter\n",
    "\n",
    "ggf = GammaGammaFitter(penalizer_coef = 0)\n",
    "ggf.fit(returning_customers_summary['frequency'],\n",
    "        returning_customers_summary['monetary_value'])\n",
    "print(ggf)"
   ]
  },
  {
   "cell_type": "code",
   "execution_count": null,
   "metadata": {},
   "outputs": [],
   "source": [
    "# Predicting Customer Lifetime Value\n",
    "print(ggf.customer_lifetime_value(\n",
    "    bgf, #the model to use to predict the number of future transactions\n",
    "    rfm_matrix['frequency'],\n",
    "    rfm_matrix['recency'],\n",
    "    rfm_matrix['T'],\n",
    "    rfm_matrix['monetary_value'],\n",
    "    time=12, # months\n",
    "    discount_rate=0.01 # monthly discount rate ~ 12.7% annually\n",
    ").head(10))"
   ]
  },
  {
   "cell_type": "markdown",
   "metadata": {},
   "source": [
    "# Additional Challenge\n",
    "\n",
    "Using the transaction dataset found [here](https://archive.ics.uci.edu/ml/datasets/Online+Retail+II), fit a Customer Lifetime Value model using the steps we established and report results in the fashion most interesting to you. Note, some data cleaning will be necessary in order to get the dataset into a workable format for LTV analysis. That's part of the fun / learning too."
   ]
  }
 ],
 "metadata": {
  "kernelspec": {
   "display_name": "Python 3",
   "language": "python",
   "name": "python3"
  },
  "language_info": {
   "codemirror_mode": {
    "name": "ipython",
    "version": 3
   },
   "file_extension": ".py",
   "mimetype": "text/x-python",
   "name": "python",
   "nbconvert_exporter": "python",
   "pygments_lexer": "ipython3",
   "version": "3.7.6"
  }
 },
 "nbformat": 4,
 "nbformat_minor": 4
}
